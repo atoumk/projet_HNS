{
 "cells": [
  {
   "cell_type": "code",
   "execution_count": 1,
   "id": "02e81689-bb59-4ae6-bb18-fbd678a86ff3",
   "metadata": {},
   "outputs": [],
   "source": [
    "import pandas as pd\n",
    "import stanza\n",
    "import os\n",
    "import requests"
   ]
  },
  {
   "cell_type": "code",
   "execution_count": null,
   "id": "487d075c",
   "metadata": {},
   "outputs": [],
   "source": [
    "stanza.download('fr')"
   ]
  },
  {
   "cell_type": "code",
   "execution_count": 2,
   "id": "d5ce9ba9",
   "metadata": {},
   "outputs": [],
   "source": [
    "path_csv = \"data/flaubert_dates-texte.csv\""
   ]
  },
  {
   "cell_type": "code",
   "execution_count": 45,
   "id": "2cbb0d05",
   "metadata": {},
   "outputs": [],
   "source": [
    "df_text_dates = pd.read_csv(path_csv, encoding='UTF-8', sep='|')"
   ]
  },
  {
   "cell_type": "markdown",
   "id": "74848d6a-33a7-4fd3-9e2e-fcb744e04200",
   "metadata": {},
   "source": [
    "## Faire une liste de noms de lieux"
   ]
  },
  {
   "cell_type": "code",
   "execution_count": null,
   "id": "933b8f9a",
   "metadata": {},
   "outputs": [],
   "source": [
    "nlp = stanza.Pipeline('fr')"
   ]
  },
  {
   "cell_type": "code",
   "execution_count": 49,
   "id": "6edee43c",
   "metadata": {},
   "outputs": [],
   "source": [
    "def get_loc(texte) :\n",
    "    liste_loc = []\n",
    "    nlp_text = nlp(texte)\n",
    "    for ent in nlp_text.ents : \n",
    "        if ent.type =='LOC':\n",
    "            liste_loc.append(ent.text) \n",
    "    return liste_loc"
   ]
  },
  {
   "cell_type": "code",
   "execution_count": 50,
   "id": "6a3aabcf",
   "metadata": {},
   "outputs": [],
   "source": [
    "placenames = []\n",
    "for i in range(len(df_text_dates)) :\n",
    "    texte = df_text_dates.loc[i, 'texte_source']\n",
    "    liste_loc = get_loc(texte)\n",
    "    placenames.extend(liste_loc)\n",
    "\n"
   ]
  },
  {
   "cell_type": "code",
   "execution_count": null,
   "id": "cab583ef-51a1-440a-8acb-f9c8da3e1056",
   "metadata": {
    "scrolled": true
   },
   "outputs": [],
   "source": [
    "# Créer un csv avec les noms de lieux pour effectuer des corrections et compléter avec des noms de lieu normalisés \n",
    "data={'place_source': placenames}\n",
    "df_places = pd.DataFrame(data)\n",
    "df_places=df_places.drop_duplicates(ignore_index=True)\n",
    "df_places.to_csv('data/placenames_stanza.csv', encoding='UTF-8', sep=';')"
   ]
  },
  {
   "cell_type": "markdown",
   "id": "6dfa5415",
   "metadata": {},
   "source": [
    "## Fusionnement des données"
   ]
  },
  {
   "cell_type": "code",
   "execution_count": null,
   "id": "d58845e5-ef74-4d88-90d1-cc5ebe1c43e9",
   "metadata": {},
   "outputs": [],
   "source": [
    "df_placenames = pd.read_csv('data/PlaceNames.csv', sep=';')"
   ]
  },
  {
   "cell_type": "code",
   "execution_count": 5,
   "id": "818b8942",
   "metadata": {},
   "outputs": [],
   "source": [
    "path_csv_main = './data/data_flaubert.csv'\n"
   ]
  },
  {
   "cell_type": "code",
   "execution_count": 6,
   "id": "4ccc1de9",
   "metadata": {},
   "outputs": [],
   "source": [
    "df_main = pd.read_csv(path_csv_main, encoding='UTF-8', sep='|')\n",
    "df_main = df_main.map(lambda x: x.strip() if isinstance(x, str) else x)\n"
   ]
  },
  {
   "cell_type": "code",
   "execution_count": null,
   "id": "7777eae3",
   "metadata": {},
   "outputs": [],
   "source": [
    "#Créer 2 dfs distincts avec 2 géométries différentes (points, lignes) pour importer sur QGIS\n",
    "#Créer un df avec les lignes qui correspondent uniquement aux chemins et excluent les points relais se trouvant sur chemins\n",
    "df_roads = df_main[(df_main['road'] == True)]\n",
    "df_roads.drop(df_roads[(df_roads['from_boat'] == True) & (df_roads['loc'] == True)].index, inplace=True) #Enlever les points vus depuis bateau\n",
    "\n",
    "#Créer un df avec les points\n",
    "df_points = df_main[(df_main['loc']== True)]\n",
    "\n"
   ]
  },
  {
   "cell_type": "markdown",
   "id": "f98cddff",
   "metadata": {},
   "source": [
    "### Récupérer les coordonnées"
   ]
  },
  {
   "cell_type": "code",
   "execution_count": 2,
   "id": "5af76fcd",
   "metadata": {},
   "outputs": [],
   "source": [
    "#Ouvrir le fichier contenant les noms de lieu, le noms de lieu normalisés et le wiki_id qui leurs correspondent\n",
    "path_placenames = 'data/PlaceNames.csv'\n",
    "\n",
    "with open(path_placenames, encoding='UTF-8') as file :\n",
    "    list_places = file.readlines()\n",
    "\n",
    "list_places = [place.strip('\\n').split(';') for place in list_places]"
   ]
  },
  {
   "cell_type": "code",
   "execution_count": null,
   "id": "e52a0f6a",
   "metadata": {},
   "outputs": [],
   "source": [
    "#obtenir les coordonnées pour wiki_id\n",
    "api_url = \"https://www.wikidata.org/w/api.php\"\n",
    "\n",
    "def get_coords(wiki_id):\n",
    "    params = {\n",
    "        \"action\": \"wbgetentities\",\n",
    "        \"ids\": wiki_id,\n",
    "        \"props\": \"claims\",\n",
    "        \"format\": \"json\"\n",
    "    }\n",
    "    \n",
    "    response = requests.get(api_url, params=params)\n",
    "    data = response.json()\n",
    "\n",
    "    try:\n",
    "        coordinates = data[\"entities\"][wiki_id][\"claims\"][\"P625\"][0][\"mainsnak\"][\"datavalue\"][\"value\"]\n",
    "        lat, lon = coordinates[\"latitude\"], coordinates[\"longitude\"]\n",
    "        return (lat, lon)\n",
    "    \n",
    "    except KeyError:\n",
    "        return (None, None)  # Si aucune coordonnée\n"
   ]
  },
  {
   "cell_type": "code",
   "execution_count": null,
   "id": "3b1cd8f1",
   "metadata": {},
   "outputs": [],
   "source": [
    "for lieu in list_places :\n",
    "    coords = get_coords(lieu[2])\n",
    "    lieu.extend(coords)\n",
    "\n",
    "# Créer df_placenames\n",
    "columns = ['placename_source', 'placename_normalized', 'wiki_id', 'lat', 'lon']\n",
    "df_placenames = pd.DataFrame(data=list_places, columns=columns)"
   ]
  },
  {
   "cell_type": "markdown",
   "id": "d77b9871",
   "metadata": {},
   "source": [
    "### Jointures"
   ]
  },
  {
   "cell_type": "code",
   "execution_count": 23,
   "id": "a94a7c72",
   "metadata": {},
   "outputs": [],
   "source": [
    "def merge_geo_df(df_source, col_name, df_placenames) :\n",
    "    geo_df = df_source.merge(df_placenames, left_on=col_name, right_on='placename_source', how='left')\n",
    "    geo_df.drop(columns=['placename_source'], inplace=True)\n",
    "    return geo_df"
   ]
  },
  {
   "cell_type": "code",
   "execution_count": null,
   "id": "a196a8e0",
   "metadata": {},
   "outputs": [],
   "source": [
    "#Créer geo_df_points, faire une jointure avec df_placenames et renommer les nouvelles colonnes pour faire deux jointures sur deux colonnes différentes. \n",
    "geo_df_points = merge_geo_df(df_points, 'place_source', df_placenames)\n",
    "geo_df_points.rename(columns={'placename_normalized':'place_source_normalized',\n",
    "                             'wiki_id':'place_source_wiki_id',\n",
    "                             'lat': 'lat_source', \n",
    "                             'lon': 'lon_source'}, inplace=True)\n",
    "\n",
    "geo_df_points = merge_geo_df(geo_df_points, 'place_compare', df_placenames)\n",
    "geo_df_points.rename(columns={'placename_normalized': 'place_compare_normalized', \n",
    "                               'wiki_id': 'place_compare_wiki_id', \n",
    "                               'lat': 'lat_compare', \n",
    "                               'lon': 'lon_compare'}, inplace=True)\n"
   ]
  },
  {
   "cell_type": "code",
   "execution_count": null,
   "id": "3f753def",
   "metadata": {},
   "outputs": [],
   "source": [
    "# Créer un nouveau df pour les routes avec coordonnées. \n",
    "geo_df_roads = merge_geo_df(df_roads, 'place_source_start', df_placenames)\n",
    "\n",
    "geo_df_roads.rename(columns={'placename_normalized':'place_start_normalized',\n",
    "                             'wiki_id':'place_start_wiki_id',\n",
    "                             'lat': 'lat_start', \n",
    "                             'lon': 'lon_start'}, inplace=True)\n",
    "\n",
    "geo_df_roads = merge_geo_df(geo_df_roads, 'place_source_end', df_placenames)\n",
    "\n",
    "geo_df_roads.rename(columns={'placename_normalized':'place_end_normalized',\n",
    "                             'wiki_id':'place_end_wiki_id',\n",
    "                             'lat': 'lat_end', \n",
    "                             'lon': 'lon_end'}, inplace=True)\n",
    "\n",
    "geo_df_roads = merge_geo_df(geo_df_roads, 'place_source', df_placenames)\n",
    "\n",
    "geo_df_roads.rename(columns={'placename_normalized':'place_source_normalized',\n",
    "                             'wiki_id':'place_source_wiki_id',\n",
    "                             'lat': 'lat_source', \n",
    "                             'lon': 'lon_source'}, inplace=True)\n",
    "\n",
    "geo_df_roads=merge_geo_df(geo_df_roads, 'place_compare', df_placenames)\n",
    "geo_df_roads.rename(columns={'placename_normalized': 'place_compare_normalized', \n",
    "                               'wiki_id': 'place_compare_wiki_id', \n",
    "                               'lat': 'lat_compare', \n",
    "                               'lon': 'lon_compare'}, inplace=True)"
   ]
  },
  {
   "cell_type": "markdown",
   "id": "8acc8cfe",
   "metadata": {},
   "source": [
    "### Créer une géométrie et enregistrer"
   ]
  },
  {
   "cell_type": "code",
   "execution_count": null,
   "id": "ad604e9c",
   "metadata": {},
   "outputs": [],
   "source": [
    "#Fonction pour ajouter un objet wkt pour créer une ligne\n",
    "def wkt(ligne):\n",
    "    if not pd.isna(ligne['lat_start']) and not pd.isna(ligne['lon_start']) and not pd.isna(ligne['lat_end']) and not pd.isna(ligne['lon_end']):\n",
    "        coords = [(ligne['lon_start'], ligne['lat_start'])]\n",
    "        \n",
    "        # Ajouter points relais sur la route\n",
    "        if ligne['loc']== True :\n",
    "            coords.append((ligne['lon_source'], ligne['lat_source']))\n",
    "        coords.append((ligne['lon_end'], ligne['lat_end']))\n",
    "        \n",
    "        return f\"LINESTRING ({', '.join(f'{lon} {lat}' for lon, lat in coords)})\"\n",
    "    else:\n",
    "        return None  # si pas de coordonnées\n"
   ]
  },
  {
   "cell_type": "code",
   "execution_count": null,
   "id": "daf7a37a",
   "metadata": {},
   "outputs": [],
   "source": [
    "geo_df_roads['wkt'] = geo_df_roads.apply(wkt, axis=1)"
   ]
  },
  {
   "cell_type": "code",
   "execution_count": null,
   "id": "9719b5c0",
   "metadata": {},
   "outputs": [],
   "source": [
    "# créer tsv\n",
    "def df_2_tsv(df, filename):\n",
    "    os.makedirs('QGIS/data_geo', exist_ok=True)\n",
    "    path = os.path.join('qgis/data_geo', filename + '.tsv')\n",
    "    df.to_csv(path, encoding='UTF-8', sep='\\t')"
   ]
  },
  {
   "cell_type": "code",
   "execution_count": null,
   "id": "2c26d9c3",
   "metadata": {},
   "outputs": [],
   "source": [
    "df_2_tsv(geo_df_points, 'points')\n",
    "df_2_tsv(geo_df_roads, 'routes')"
   ]
  }
 ],
 "metadata": {
  "kernelspec": {
   "display_name": "carto",
   "language": "python",
   "name": "python3"
  },
  "language_info": {
   "codemirror_mode": {
    "name": "ipython",
    "version": 3
   },
   "file_extension": ".py",
   "mimetype": "text/x-python",
   "name": "python",
   "nbconvert_exporter": "python",
   "pygments_lexer": "ipython3",
   "version": "3.9.21"
  }
 },
 "nbformat": 4,
 "nbformat_minor": 5
}
